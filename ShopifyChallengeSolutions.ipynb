{
 "cells": [
  {
   "cell_type": "markdown",
   "id": "f33658f2",
   "metadata": {},
   "source": [
    "# Shopify Summer 2022 Data Science Intern Challenge\n",
    "\n",
    "***Allistair Cota***\n",
    "\n",
    "***allistair.cota@gmail.com***"
   ]
  },
  {
   "cell_type": "markdown",
   "id": "b55bc934",
   "metadata": {},
   "source": [
    "## Question 1"
   ]
  },
  {
   "cell_type": "markdown",
   "id": "44d401ef",
   "metadata": {},
   "source": [
    "To answer this question, I will read in the sneakers dataset and perform some preliminary EDA in order to provide my recommendations.\n",
    "\n",
    "### Import Required Libraries\n",
    "\n",
    "The required libraries are Pandas, Matplotlib and Seaborn."
   ]
  },
  {
   "cell_type": "code",
   "execution_count": 2,
   "id": "7bd0cacd",
   "metadata": {},
   "outputs": [],
   "source": [
    "import pandas as pd\n",
    "import matplotlib.pyplot as plt\n",
    "import seaborn as sns\n",
    "plt.style.use('bmh')"
   ]
  },
  {
   "cell_type": "code",
   "execution_count": 3,
   "id": "ca643520",
   "metadata": {},
   "outputs": [],
   "source": [
    "df = pd.read_csv('data/sneakers-data.csv')"
   ]
  },
  {
   "cell_type": "code",
   "execution_count": 4,
   "id": "61168c0a",
   "metadata": {},
   "outputs": [
    {
     "data": {
      "text/html": [
       "<div>\n",
       "<style scoped>\n",
       "    .dataframe tbody tr th:only-of-type {\n",
       "        vertical-align: middle;\n",
       "    }\n",
       "\n",
       "    .dataframe tbody tr th {\n",
       "        vertical-align: top;\n",
       "    }\n",
       "\n",
       "    .dataframe thead th {\n",
       "        text-align: right;\n",
       "    }\n",
       "</style>\n",
       "<table border=\"1\" class=\"dataframe\">\n",
       "  <thead>\n",
       "    <tr style=\"text-align: right;\">\n",
       "      <th></th>\n",
       "      <th>order_id</th>\n",
       "      <th>shop_id</th>\n",
       "      <th>user_id</th>\n",
       "      <th>order_amount</th>\n",
       "      <th>total_items</th>\n",
       "      <th>payment_method</th>\n",
       "      <th>created_at</th>\n",
       "    </tr>\n",
       "  </thead>\n",
       "  <tbody>\n",
       "    <tr>\n",
       "      <th>0</th>\n",
       "      <td>1</td>\n",
       "      <td>53</td>\n",
       "      <td>746</td>\n",
       "      <td>224</td>\n",
       "      <td>2</td>\n",
       "      <td>cash</td>\n",
       "      <td>2017-03-13 12:36:56</td>\n",
       "    </tr>\n",
       "    <tr>\n",
       "      <th>1</th>\n",
       "      <td>2</td>\n",
       "      <td>92</td>\n",
       "      <td>925</td>\n",
       "      <td>90</td>\n",
       "      <td>1</td>\n",
       "      <td>cash</td>\n",
       "      <td>2017-03-03 17:38:52</td>\n",
       "    </tr>\n",
       "    <tr>\n",
       "      <th>2</th>\n",
       "      <td>3</td>\n",
       "      <td>44</td>\n",
       "      <td>861</td>\n",
       "      <td>144</td>\n",
       "      <td>1</td>\n",
       "      <td>cash</td>\n",
       "      <td>2017-03-14 4:23:56</td>\n",
       "    </tr>\n",
       "    <tr>\n",
       "      <th>3</th>\n",
       "      <td>4</td>\n",
       "      <td>18</td>\n",
       "      <td>935</td>\n",
       "      <td>156</td>\n",
       "      <td>1</td>\n",
       "      <td>credit_card</td>\n",
       "      <td>2017-03-26 12:43:37</td>\n",
       "    </tr>\n",
       "    <tr>\n",
       "      <th>4</th>\n",
       "      <td>5</td>\n",
       "      <td>18</td>\n",
       "      <td>883</td>\n",
       "      <td>156</td>\n",
       "      <td>1</td>\n",
       "      <td>credit_card</td>\n",
       "      <td>2017-03-01 4:35:11</td>\n",
       "    </tr>\n",
       "  </tbody>\n",
       "</table>\n",
       "</div>"
      ],
      "text/plain": [
       "   order_id  shop_id  user_id  order_amount  total_items payment_method  \\\n",
       "0         1       53      746           224            2           cash   \n",
       "1         2       92      925            90            1           cash   \n",
       "2         3       44      861           144            1           cash   \n",
       "3         4       18      935           156            1    credit_card   \n",
       "4         5       18      883           156            1    credit_card   \n",
       "\n",
       "            created_at  \n",
       "0  2017-03-13 12:36:56  \n",
       "1  2017-03-03 17:38:52  \n",
       "2   2017-03-14 4:23:56  \n",
       "3  2017-03-26 12:43:37  \n",
       "4   2017-03-01 4:35:11  "
      ]
     },
     "execution_count": 4,
     "metadata": {},
     "output_type": "execute_result"
    }
   ],
   "source": [
    "df.head()"
   ]
  },
  {
   "cell_type": "code",
   "execution_count": 5,
   "id": "318a96a3",
   "metadata": {},
   "outputs": [
    {
     "data": {
      "text/plain": [
       "(5000, 7)"
      ]
     },
     "execution_count": 5,
     "metadata": {},
     "output_type": "execute_result"
    }
   ],
   "source": [
    "df.shape"
   ]
  },
  {
   "cell_type": "markdown",
   "id": "194105fe",
   "metadata": {},
   "source": [
    " The dataset has 5,000 rows and 7 columns. I will now check the column names and data types."
   ]
  },
  {
   "cell_type": "markdown",
   "id": "524bc14d",
   "metadata": {},
   "source": [
    "### Data Dictionary"
   ]
  },
  {
   "cell_type": "code",
   "execution_count": 6,
   "id": "71f8b0fe",
   "metadata": {},
   "outputs": [
    {
     "name": "stdout",
     "output_type": "stream",
     "text": [
      "<class 'pandas.core.frame.DataFrame'>\n",
      "RangeIndex: 5000 entries, 0 to 4999\n",
      "Data columns (total 7 columns):\n",
      " #   Column          Non-Null Count  Dtype \n",
      "---  ------          --------------  ----- \n",
      " 0   order_id        5000 non-null   int64 \n",
      " 1   shop_id         5000 non-null   int64 \n",
      " 2   user_id         5000 non-null   int64 \n",
      " 3   order_amount    5000 non-null   int64 \n",
      " 4   total_items     5000 non-null   int64 \n",
      " 5   payment_method  5000 non-null   object\n",
      " 6   created_at      5000 non-null   object\n",
      "dtypes: int64(5), object(2)\n",
      "memory usage: 273.6+ KB\n"
     ]
    }
   ],
   "source": [
    "df.info()"
   ]
  },
  {
   "cell_type": "markdown",
   "id": "3ae6cae0",
   "metadata": {},
   "source": [
    "- `order_id`: integer, the table primary key which is unique ID for every order.\n",
    "- `shop_id`: integer, the shop/vendor ID at which the order was placed.\n",
    "- `user_id`: integer, the customer ID who placed the order.\n",
    "- `order_amount`: integer, the value of the transaction.\n",
    "- `total_items`: integer, the number of items purchased in the order.\n",
    "- `payment_method`: string object, describing how the payment was made.\n",
    "- `created_at`: string object, describing the date of the transaction. By visual inspection of the data frame, this column can be converted to a datetime object."
   ]
  },
  {
   "cell_type": "markdown",
   "id": "717a1197",
   "metadata": {},
   "source": [
    "### Check for Duplicate Rows"
   ]
  },
  {
   "cell_type": "code",
   "execution_count": 7,
   "id": "0056d8ba",
   "metadata": {},
   "outputs": [
    {
     "data": {
      "text/plain": [
       "0"
      ]
     },
     "execution_count": 7,
     "metadata": {},
     "output_type": "execute_result"
    }
   ],
   "source": [
    "df.duplicated().sum()"
   ]
  },
  {
   "cell_type": "markdown",
   "id": "9b216ab2",
   "metadata": {},
   "source": [
    "There are no duplicate rows in the dataset."
   ]
  },
  {
   "cell_type": "markdown",
   "id": "5ca65bf1",
   "metadata": {},
   "source": [
    "### Check for Missing Values"
   ]
  },
  {
   "cell_type": "code",
   "execution_count": 8,
   "id": "452cd819",
   "metadata": {},
   "outputs": [
    {
     "data": {
      "text/plain": [
       "order_id          0\n",
       "shop_id           0\n",
       "user_id           0\n",
       "order_amount      0\n",
       "total_items       0\n",
       "payment_method    0\n",
       "created_at        0\n",
       "dtype: int64"
      ]
     },
     "execution_count": 8,
     "metadata": {},
     "output_type": "execute_result"
    }
   ],
   "source": [
    "df.isna().sum()"
   ]
  },
  {
   "cell_type": "markdown",
   "id": "e9e7b196",
   "metadata": {},
   "source": [
    "There are no missing values in the dataset."
   ]
  },
  {
   "cell_type": "markdown",
   "id": "a4cb546f",
   "metadata": {},
   "source": [
    "### Converting `created_at` to datetime format"
   ]
  },
  {
   "cell_type": "code",
   "execution_count": 9,
   "id": "4e967449",
   "metadata": {},
   "outputs": [],
   "source": [
    "df['created_at'] = pd.to_datetime(df['created_at'])"
   ]
  },
  {
   "cell_type": "code",
   "execution_count": 10,
   "id": "9fa90b62",
   "metadata": {},
   "outputs": [
    {
     "name": "stdout",
     "output_type": "stream",
     "text": [
      "<class 'pandas.core.frame.DataFrame'>\n",
      "RangeIndex: 5000 entries, 0 to 4999\n",
      "Data columns (total 7 columns):\n",
      " #   Column          Non-Null Count  Dtype         \n",
      "---  ------          --------------  -----         \n",
      " 0   order_id        5000 non-null   int64         \n",
      " 1   shop_id         5000 non-null   int64         \n",
      " 2   user_id         5000 non-null   int64         \n",
      " 3   order_amount    5000 non-null   int64         \n",
      " 4   total_items     5000 non-null   int64         \n",
      " 5   payment_method  5000 non-null   object        \n",
      " 6   created_at      5000 non-null   datetime64[ns]\n",
      "dtypes: datetime64[ns](1), int64(5), object(1)\n",
      "memory usage: 273.6+ KB\n"
     ]
    }
   ],
   "source": [
    "df.info()"
   ]
  },
  {
   "cell_type": "markdown",
   "id": "2c1d063f",
   "metadata": {},
   "source": [
    "The `created_at` column has been successfully converted to a datetime format. \n",
    "I will now verify the time interval that this dataset covers."
   ]
  },
  {
   "cell_type": "code",
   "execution_count": 11,
   "id": "01d08c3e",
   "metadata": {},
   "outputs": [
    {
     "name": "stdout",
     "output_type": "stream",
     "text": [
      "Last Order Date: 2017-03-30 23:55:35\n",
      "First Order Date: 2017-03-01 00:08:09\n",
      "Order Date Interval for this dataset: 29 days 23:47:26\n"
     ]
    }
   ],
   "source": [
    "print(f'Last Order Date: {max(df[\"created_at\"])}')\n",
    "print(f'First Order Date: {min(df[\"created_at\"])}')\n",
    "\n",
    "print(f'Order Date Interval for this dataset: {max(df[\"created_at\"]) - min(df[\"created_at\"])}')"
   ]
  },
  {
   "cell_type": "markdown",
   "id": "f265a281",
   "metadata": {},
   "source": [
    "This dataset includes orders that span a ~30 day window. Hence I can look at the entire dataset to analyze metrics that represent a 30 day window of orders."
   ]
  },
  {
   "cell_type": "markdown",
   "id": "9ee92bff",
   "metadata": {},
   "source": [
    "### Looking at Boxplot Distributions\n",
    "\n",
    "I will now examine the boxplot distributions of the order amount and total items per order. The boxplot will indicate any outliers present for each of the variables."
   ]
  },
  {
   "cell_type": "code",
   "execution_count": 12,
   "id": "d3c503a6",
   "metadata": {},
   "outputs": [
    {
     "data": {
      "image/png": "[encoded data removed]",
      "text/plain": [
       "<Figure size 1080x360 with 2 Axes>"
      ]
     },
     "metadata": {
      "needs_background": "light"
     },
     "output_type": "display_data"
    }
   ],
   "source": [
    "plt.subplots(1, 2, figsize=(15,5))\n",
    "\n",
    "# Boxplot for Order Amount\n",
    "plt.subplot(1, 2, 1)\n",
    "sns.boxplot(data=df, x='order_amount')\n",
    "plt.title('Distribution of Order Amount')\n",
    "plt.axvline(df['order_amount'].mean(), color='magenta', label='Mean')\n",
    "plt.axvline(df['order_amount'].median(), color='gold', label='Median')\n",
    "plt.xscale('log')\n",
    "plt.legend()\n",
    "plt.xlabel('Order Amount ($)')\n",
    "\n",
    "# Boxplot for Total Items\n",
    "plt.subplot(1, 2, 2)\n",
    "sns.boxplot(data=df, x='total_items')\n",
    "plt.title('Distribution of Total Items Per Order')\n",
    "plt.axvline(df['total_items'].mean(), color='magenta', label='Mean')\n",
    "plt.axvline(df['total_items'].median(), color='gold', label='Median')\n",
    "plt.xscale('log')\n",
    "plt.legend()\n",
    "plt.xlabel('Items Per Order')\n",
    "\n",
    "plt.tight_layout()\n",
    "plt.show()"
   ]
  },
  {
   "cell_type": "markdown",
   "id": "17a3e38f",
   "metadata": {},
   "source": [
    "The outliers for both variables are some orders of magnitude greater than their median values, hence a log scale is used for both plots. There are a number of outliers related to order amount, with the biggest outlier ordered valued at roughly ~$700k. There is a also an outlier in total items per order at ~2,000 items. The distributions for both variables are highly right-skewed. It appears that these outliers are affecting the mean value by shifting it towards the direction of skewness.\n",
    "\n",
    "I will now look at the variation of order amount with total items per order."
   ]
  },
  {
   "cell_type": "code",
   "execution_count": 13,
   "id": "61cec35b",
   "metadata": {},
   "outputs": [
    {
     "data": {
      "image/png": "[encoded data removed]",
      "text/plain": [
       "<Figure size 864x576 with 1 Axes>"
      ]
     },
     "metadata": {
      "needs_background": "light"
     },
     "output_type": "display_data"
    }
   ],
   "source": [
    "plt.figure(figsize=(12,8))\n",
    "plt.scatter(df['total_items'], df['order_amount'], alpha=0.2)\n",
    "plt.title('Variation of Order Amount with Total Items Per Order')\n",
    "plt.xlabel('Total Items Per Order')\n",
    "plt.xscale('log')\n",
    "plt.yscale('log')\n",
    "plt.ylabel('Order Amount ($)')\n",
    "plt.show()"
   ]
  },
  {
   "cell_type": "markdown",
   "id": "1992061c",
   "metadata": {},
   "source": [
    "The above plot shows that the orders with ~2000 items are resulting in the ~\\\\$700k order value. However there are also some orders with low quantities but still very high order amounts (> \\$20k). I will now look at a tabular breakdown of order quantities and order amounts."
   ]
  },
  {
   "cell_type": "code",
   "execution_count": 14,
   "id": "516e07dc",
   "metadata": {},
   "outputs": [
    {
     "data": {
      "text/html": [
       "<div>\n",
       "<style scoped>\n",
       "    .dataframe tbody tr th:only-of-type {\n",
       "        vertical-align: middle;\n",
       "    }\n",
       "\n",
       "    .dataframe tbody tr th {\n",
       "        vertical-align: top;\n",
       "    }\n",
       "\n",
       "    .dataframe thead tr th {\n",
       "        text-align: left;\n",
       "    }\n",
       "\n",
       "    .dataframe thead tr:last-of-type th {\n",
       "        text-align: right;\n",
       "    }\n",
       "</style>\n",
       "<table border=\"1\" class=\"dataframe\">\n",
       "  <thead>\n",
       "    <tr>\n",
       "      <th></th>\n",
       "      <th colspan=\"3\" halign=\"left\">Order Amount ($)</th>\n",
       "    </tr>\n",
       "    <tr>\n",
       "      <th></th>\n",
       "      <th>min</th>\n",
       "      <th>max</th>\n",
       "      <th>count</th>\n",
       "    </tr>\n",
       "    <tr>\n",
       "      <th>Total Items Per Order</th>\n",
       "      <th></th>\n",
       "      <th></th>\n",
       "      <th></th>\n",
       "    </tr>\n",
       "  </thead>\n",
       "  <tbody>\n",
       "    <tr>\n",
       "      <th>1</th>\n",
       "      <td>90</td>\n",
       "      <td>25725</td>\n",
       "      <td>1830</td>\n",
       "    </tr>\n",
       "    <tr>\n",
       "      <th>2</th>\n",
       "      <td>180</td>\n",
       "      <td>51450</td>\n",
       "      <td>1832</td>\n",
       "    </tr>\n",
       "    <tr>\n",
       "      <th>3</th>\n",
       "      <td>270</td>\n",
       "      <td>77175</td>\n",
       "      <td>941</td>\n",
       "    </tr>\n",
       "    <tr>\n",
       "      <th>4</th>\n",
       "      <td>360</td>\n",
       "      <td>102900</td>\n",
       "      <td>293</td>\n",
       "    </tr>\n",
       "    <tr>\n",
       "      <th>5</th>\n",
       "      <td>450</td>\n",
       "      <td>1760</td>\n",
       "      <td>77</td>\n",
       "    </tr>\n",
       "    <tr>\n",
       "      <th>6</th>\n",
       "      <td>774</td>\n",
       "      <td>154350</td>\n",
       "      <td>9</td>\n",
       "    </tr>\n",
       "    <tr>\n",
       "      <th>8</th>\n",
       "      <td>1064</td>\n",
       "      <td>1064</td>\n",
       "      <td>1</td>\n",
       "    </tr>\n",
       "    <tr>\n",
       "      <th>2000</th>\n",
       "      <td>704000</td>\n",
       "      <td>704000</td>\n",
       "      <td>17</td>\n",
       "    </tr>\n",
       "  </tbody>\n",
       "</table>\n",
       "</div>"
      ],
      "text/plain": [
       "                      Order Amount ($)              \n",
       "                                   min     max count\n",
       "Total Items Per Order                               \n",
       "1                                   90   25725  1830\n",
       "2                                  180   51450  1832\n",
       "3                                  270   77175   941\n",
       "4                                  360  102900   293\n",
       "5                                  450    1760    77\n",
       "6                                  774  154350     9\n",
       "8                                 1064    1064     1\n",
       "2000                            704000  704000    17"
      ]
     },
     "execution_count": 14,
     "metadata": {},
     "output_type": "execute_result"
    }
   ],
   "source": [
    "# Show min, max, and count of order amounts grouped by total items\n",
    "df.groupby('total_items').agg({'order_amount': ['min', 'max', 'count']}).round(2).\\\n",
    "    rename(columns={'order_amount': 'Order Amount ($)'}).rename_axis('Total Items Per Order')"
   ]
  },
  {
   "cell_type": "markdown",
   "id": "32381f4c",
   "metadata": {},
   "source": [
    "The table above shows that there were 17 orders with 2000 items, and each of those orders were worth \\\\$704,000. This might be a reoccurring purchase - I will confirm this by looking at the orders with 2000 items specifically."
   ]
  },
  {
   "cell_type": "code",
   "execution_count": 15,
   "id": "f0daf24e",
   "metadata": {},
   "outputs": [
    {
     "data": {
      "text/html": [
       "<div>\n",
       "<style scoped>\n",
       "    .dataframe tbody tr th:only-of-type {\n",
       "        vertical-align: middle;\n",
       "    }\n",
       "\n",
       "    .dataframe tbody tr th {\n",
       "        vertical-align: top;\n",
       "    }\n",
       "\n",
       "    .dataframe thead th {\n",
       "        text-align: right;\n",
       "    }\n",
       "</style>\n",
       "<table border=\"1\" class=\"dataframe\">\n",
       "  <thead>\n",
       "    <tr style=\"text-align: right;\">\n",
       "      <th></th>\n",
       "      <th>order_id</th>\n",
       "      <th>shop_id</th>\n",
       "      <th>user_id</th>\n",
       "      <th>order_amount</th>\n",
       "      <th>total_items</th>\n",
       "      <th>payment_method</th>\n",
       "      <th>created_at</th>\n",
       "    </tr>\n",
       "  </thead>\n",
       "  <tbody>\n",
       "    <tr>\n",
       "      <th>520</th>\n",
       "      <td>521</td>\n",
       "      <td>42</td>\n",
       "      <td>607</td>\n",
       "      <td>704000</td>\n",
       "      <td>2000</td>\n",
       "      <td>credit_card</td>\n",
       "      <td>2017-03-02 04:00:00</td>\n",
       "    </tr>\n",
       "    <tr>\n",
       "      <th>4646</th>\n",
       "      <td>4647</td>\n",
       "      <td>42</td>\n",
       "      <td>607</td>\n",
       "      <td>704000</td>\n",
       "      <td>2000</td>\n",
       "      <td>credit_card</td>\n",
       "      <td>2017-03-02 04:00:00</td>\n",
       "    </tr>\n",
       "    <tr>\n",
       "      <th>60</th>\n",
       "      <td>61</td>\n",
       "      <td>42</td>\n",
       "      <td>607</td>\n",
       "      <td>704000</td>\n",
       "      <td>2000</td>\n",
       "      <td>credit_card</td>\n",
       "      <td>2017-03-04 04:00:00</td>\n",
       "    </tr>\n",
       "    <tr>\n",
       "      <th>15</th>\n",
       "      <td>16</td>\n",
       "      <td>42</td>\n",
       "      <td>607</td>\n",
       "      <td>704000</td>\n",
       "      <td>2000</td>\n",
       "      <td>credit_card</td>\n",
       "      <td>2017-03-07 04:00:00</td>\n",
       "    </tr>\n",
       "    <tr>\n",
       "      <th>2297</th>\n",
       "      <td>2298</td>\n",
       "      <td>42</td>\n",
       "      <td>607</td>\n",
       "      <td>704000</td>\n",
       "      <td>2000</td>\n",
       "      <td>credit_card</td>\n",
       "      <td>2017-03-07 04:00:00</td>\n",
       "    </tr>\n",
       "    <tr>\n",
       "      <th>1436</th>\n",
       "      <td>1437</td>\n",
       "      <td>42</td>\n",
       "      <td>607</td>\n",
       "      <td>704000</td>\n",
       "      <td>2000</td>\n",
       "      <td>credit_card</td>\n",
       "      <td>2017-03-11 04:00:00</td>\n",
       "    </tr>\n",
       "    <tr>\n",
       "      <th>2153</th>\n",
       "      <td>2154</td>\n",
       "      <td>42</td>\n",
       "      <td>607</td>\n",
       "      <td>704000</td>\n",
       "      <td>2000</td>\n",
       "      <td>credit_card</td>\n",
       "      <td>2017-03-12 04:00:00</td>\n",
       "    </tr>\n",
       "    <tr>\n",
       "      <th>1362</th>\n",
       "      <td>1363</td>\n",
       "      <td>42</td>\n",
       "      <td>607</td>\n",
       "      <td>704000</td>\n",
       "      <td>2000</td>\n",
       "      <td>credit_card</td>\n",
       "      <td>2017-03-15 04:00:00</td>\n",
       "    </tr>\n",
       "    <tr>\n",
       "      <th>1602</th>\n",
       "      <td>1603</td>\n",
       "      <td>42</td>\n",
       "      <td>607</td>\n",
       "      <td>704000</td>\n",
       "      <td>2000</td>\n",
       "      <td>credit_card</td>\n",
       "      <td>2017-03-17 04:00:00</td>\n",
       "    </tr>\n",
       "    <tr>\n",
       "      <th>1562</th>\n",
       "      <td>1563</td>\n",
       "      <td>42</td>\n",
       "      <td>607</td>\n",
       "      <td>704000</td>\n",
       "      <td>2000</td>\n",
       "      <td>credit_card</td>\n",
       "      <td>2017-03-19 04:00:00</td>\n",
       "    </tr>\n",
       "    <tr>\n",
       "      <th>4868</th>\n",
       "      <td>4869</td>\n",
       "      <td>42</td>\n",
       "      <td>607</td>\n",
       "      <td>704000</td>\n",
       "      <td>2000</td>\n",
       "      <td>credit_card</td>\n",
       "      <td>2017-03-22 04:00:00</td>\n",
       "    </tr>\n",
       "    <tr>\n",
       "      <th>3332</th>\n",
       "      <td>3333</td>\n",
       "      <td>42</td>\n",
       "      <td>607</td>\n",
       "      <td>704000</td>\n",
       "      <td>2000</td>\n",
       "      <td>credit_card</td>\n",
       "      <td>2017-03-24 04:00:00</td>\n",
       "    </tr>\n",
       "    <tr>\n",
       "      <th>1104</th>\n",
       "      <td>1105</td>\n",
       "      <td>42</td>\n",
       "      <td>607</td>\n",
       "      <td>704000</td>\n",
       "      <td>2000</td>\n",
       "      <td>credit_card</td>\n",
       "      <td>2017-03-24 04:00:00</td>\n",
       "    </tr>\n",
       "    <tr>\n",
       "      <th>4882</th>\n",
       "      <td>4883</td>\n",
       "      <td>42</td>\n",
       "      <td>607</td>\n",
       "      <td>704000</td>\n",
       "      <td>2000</td>\n",
       "      <td>credit_card</td>\n",
       "      <td>2017-03-25 04:00:00</td>\n",
       "    </tr>\n",
       "    <tr>\n",
       "      <th>2835</th>\n",
       "      <td>2836</td>\n",
       "      <td>42</td>\n",
       "      <td>607</td>\n",
       "      <td>704000</td>\n",
       "      <td>2000</td>\n",
       "      <td>credit_card</td>\n",
       "      <td>2017-03-28 04:00:00</td>\n",
       "    </tr>\n",
       "    <tr>\n",
       "      <th>2969</th>\n",
       "      <td>2970</td>\n",
       "      <td>42</td>\n",
       "      <td>607</td>\n",
       "      <td>704000</td>\n",
       "      <td>2000</td>\n",
       "      <td>credit_card</td>\n",
       "      <td>2017-03-28 04:00:00</td>\n",
       "    </tr>\n",
       "    <tr>\n",
       "      <th>4056</th>\n",
       "      <td>4057</td>\n",
       "      <td>42</td>\n",
       "      <td>607</td>\n",
       "      <td>704000</td>\n",
       "      <td>2000</td>\n",
       "      <td>credit_card</td>\n",
       "      <td>2017-03-28 04:00:00</td>\n",
       "    </tr>\n",
       "  </tbody>\n",
       "</table>\n",
       "</div>"
      ],
      "text/plain": [
       "      order_id  shop_id  user_id  order_amount  total_items payment_method  \\\n",
       "520        521       42      607        704000         2000    credit_card   \n",
       "4646      4647       42      607        704000         2000    credit_card   \n",
       "60          61       42      607        704000         2000    credit_card   \n",
       "15          16       42      607        704000         2000    credit_card   \n",
       "2297      2298       42      607        704000         2000    credit_card   \n",
       "1436      1437       42      607        704000         2000    credit_card   \n",
       "2153      2154       42      607        704000         2000    credit_card   \n",
       "1362      1363       42      607        704000         2000    credit_card   \n",
       "1602      1603       42      607        704000         2000    credit_card   \n",
       "1562      1563       42      607        704000         2000    credit_card   \n",
       "4868      4869       42      607        704000         2000    credit_card   \n",
       "3332      3333       42      607        704000         2000    credit_card   \n",
       "1104      1105       42      607        704000         2000    credit_card   \n",
       "4882      4883       42      607        704000         2000    credit_card   \n",
       "2835      2836       42      607        704000         2000    credit_card   \n",
       "2969      2970       42      607        704000         2000    credit_card   \n",
       "4056      4057       42      607        704000         2000    credit_card   \n",
       "\n",
       "              created_at  \n",
       "520  2017-03-02 04:00:00  \n",
       "4646 2017-03-02 04:00:00  \n",
       "60   2017-03-04 04:00:00  \n",
       "15   2017-03-07 04:00:00  \n",
       "2297 2017-03-07 04:00:00  \n",
       "1436 2017-03-11 04:00:00  \n",
       "2153 2017-03-12 04:00:00  \n",
       "1362 2017-03-15 04:00:00  \n",
       "1602 2017-03-17 04:00:00  \n",
       "1562 2017-03-19 04:00:00  \n",
       "4868 2017-03-22 04:00:00  \n",
       "3332 2017-03-24 04:00:00  \n",
       "1104 2017-03-24 04:00:00  \n",
       "4882 2017-03-25 04:00:00  \n",
       "2835 2017-03-28 04:00:00  \n",
       "2969 2017-03-28 04:00:00  \n",
       "4056 2017-03-28 04:00:00  "
      ]
     },
     "execution_count": 15,
     "metadata": {},
     "output_type": "execute_result"
    }
   ],
   "source": [
    "# Look at transactions that had 2000 items\n",
    "df[df['total_items']==2000].sort_values(by='created_at')"
   ]
  },
  {
   "cell_type": "markdown",
   "id": "3a20156e",
   "metadata": {},
   "source": [
    "The observations from the table above are as follows:\n",
    "- Only customer (user_id 607) places a bulk order of 2000 sneakers worth $704,000 at the same shop (shop_id 42).\n",
    "- All of the bulk orders occur at 4 AM.\n",
    "- There are 4 days where multiple bulk orders are placed on the same day at the same time.\n",
    "- All of these bulk orders are purchased via credit card.\n",
    "\n",
    "I find it strange that multiple orders were able to made on the same day at the same time. Perhaps orders times in this dataset are not rounded to the nearest second but maybe the nearest hour. To confirm this, I will print the value counts of the `created_at` column."
   ]
  },
  {
   "cell_type": "code",
   "execution_count": 16,
   "id": "b85e9de7",
   "metadata": {},
   "outputs": [
    {
     "data": {
      "text/plain": [
       "2017-03-28 04:00:00    3\n",
       "2017-03-02 04:00:00    2\n",
       "2017-03-24 04:00:00    2\n",
       "2017-03-07 15:30:37    2\n",
       "2017-03-13 02:38:34    2\n",
       "                      ..\n",
       "2017-03-02 08:16:06    1\n",
       "2017-03-28 21:40:46    1\n",
       "2017-03-11 02:49:42    1\n",
       "2017-03-22 05:27:28    1\n",
       "2017-03-18 15:48:18    1\n",
       "Name: created_at, Length: 4991, dtype: int64"
      ]
     },
     "execution_count": 16,
     "metadata": {},
     "output_type": "execute_result"
    }
   ],
   "source": [
    "df['created_at'].value_counts()"
   ]
  },
  {
   "cell_type": "markdown",
   "id": "bd357deb",
   "metadata": {},
   "source": [
    "Examining the value counts above for all the orders, it does appear that the `created_at` column is rounded to the nearest second."
   ]
  },
  {
   "cell_type": "markdown",
   "id": "8b4afa96",
   "metadata": {},
   "source": [
    "There are many possible explanations for this anomaly. Perhaps these are incorrect entries or perhaps these are fraudulent credit card transactions. It could also be possible that a bot is being used to make these purchases, perhaps explaining why multiple purchases were made at the same time when rounded to the nearest second."
   ]
  },
  {
   "cell_type": "markdown",
   "id": "b03ddea4",
   "metadata": {},
   "source": [
    "I will now visualize the distribution of total items per order to gain better insight on how many sneaker pairs are being purchased by the majority of customers."
   ]
  },
  {
   "cell_type": "code",
   "execution_count": 17,
   "id": "5b1f7ac8",
   "metadata": {},
   "outputs": [
    {
     "data": {
      "image/png": "[encoded data removed]",
      "text/plain": [
       "<Figure size 864x576 with 1 Axes>"
      ]
     },
     "metadata": {
      "needs_background": "light"
     },
     "output_type": "display_data"
    }
   ],
   "source": [
    "# Obtain value counts of total items as a percentage of total orders\n",
    "df_normalize = (df['total_items'].value_counts(normalize = True)*100).sort_index()\n",
    "\n",
    "plt.figure(figsize=(12,8))\n",
    "plt.bar(df_normalize.index.astype('str'), df_normalize.values)\n",
    "plt.title('Percentage Distribution of Total Items Per Order')\n",
    "plt.xlabel('Total Items Per Order')\n",
    "plt.ylabel('Percentage of Total Orders (%)')\n",
    "plt.show()"
   ]
  },
  {
   "cell_type": "markdown",
   "id": "fa3675b3",
   "metadata": {},
   "source": [
    "We see that ~92% of the orders had 1, 2, or 3 sneaker pairs purchased, which an addition 5% of the orders purchasing 4 sneaker pairs. As was mentioned earlier, some orders with low quantities still have a high order amount of more than \\\\$20k. I will now look at the cost per sneaker pair, which can be calculated by dividing the order amount by total items per order since each store sells only one model of sneakers."
   ]
  },
  {
   "cell_type": "code",
   "execution_count": 18,
   "id": "c25ec308",
   "metadata": {},
   "outputs": [],
   "source": [
    "df['cost_per_item'] = df['order_amount'] / df['total_items']"
   ]
  },
  {
   "cell_type": "code",
   "execution_count": 19,
   "id": "ec64a9ca",
   "metadata": {},
   "outputs": [
    {
     "data": {
      "text/html": [
       "<div>\n",
       "<style scoped>\n",
       "    .dataframe tbody tr th:only-of-type {\n",
       "        vertical-align: middle;\n",
       "    }\n",
       "\n",
       "    .dataframe tbody tr th {\n",
       "        vertical-align: top;\n",
       "    }\n",
       "\n",
       "    .dataframe thead tr th {\n",
       "        text-align: left;\n",
       "    }\n",
       "\n",
       "    .dataframe thead tr:last-of-type th {\n",
       "        text-align: right;\n",
       "    }\n",
       "</style>\n",
       "<table border=\"1\" class=\"dataframe\">\n",
       "  <thead>\n",
       "    <tr>\n",
       "      <th></th>\n",
       "      <th colspan=\"4\" halign=\"left\">Order Amount ($)</th>\n",
       "      <th colspan=\"4\" halign=\"left\">Cost Per Item ($)</th>\n",
       "    </tr>\n",
       "    <tr>\n",
       "      <th></th>\n",
       "      <th>min</th>\n",
       "      <th>max</th>\n",
       "      <th>mean</th>\n",
       "      <th>median</th>\n",
       "      <th>min</th>\n",
       "      <th>max</th>\n",
       "      <th>mean</th>\n",
       "      <th>median</th>\n",
       "    </tr>\n",
       "    <tr>\n",
       "      <th>Total Items</th>\n",
       "      <th></th>\n",
       "      <th></th>\n",
       "      <th></th>\n",
       "      <th></th>\n",
       "      <th></th>\n",
       "      <th></th>\n",
       "      <th></th>\n",
       "      <th></th>\n",
       "    </tr>\n",
       "  </thead>\n",
       "  <tbody>\n",
       "    <tr>\n",
       "      <th>1</th>\n",
       "      <td>90</td>\n",
       "      <td>25725</td>\n",
       "      <td>417.36</td>\n",
       "      <td>153.0</td>\n",
       "      <td>90.0</td>\n",
       "      <td>25725.0</td>\n",
       "      <td>417.36</td>\n",
       "      <td>153.0</td>\n",
       "    </tr>\n",
       "    <tr>\n",
       "      <th>2</th>\n",
       "      <td>180</td>\n",
       "      <td>51450</td>\n",
       "      <td>750.22</td>\n",
       "      <td>306.0</td>\n",
       "      <td>90.0</td>\n",
       "      <td>25725.0</td>\n",
       "      <td>375.11</td>\n",
       "      <td>153.0</td>\n",
       "    </tr>\n",
       "    <tr>\n",
       "      <th>3</th>\n",
       "      <td>270</td>\n",
       "      <td>77175</td>\n",
       "      <td>1191.08</td>\n",
       "      <td>459.0</td>\n",
       "      <td>90.0</td>\n",
       "      <td>25725.0</td>\n",
       "      <td>397.03</td>\n",
       "      <td>153.0</td>\n",
       "    </tr>\n",
       "    <tr>\n",
       "      <th>4</th>\n",
       "      <td>360</td>\n",
       "      <td>102900</td>\n",
       "      <td>947.69</td>\n",
       "      <td>592.0</td>\n",
       "      <td>90.0</td>\n",
       "      <td>25725.0</td>\n",
       "      <td>236.92</td>\n",
       "      <td>148.0</td>\n",
       "    </tr>\n",
       "    <tr>\n",
       "      <th>5</th>\n",
       "      <td>450</td>\n",
       "      <td>1760</td>\n",
       "      <td>759.35</td>\n",
       "      <td>765.0</td>\n",
       "      <td>90.0</td>\n",
       "      <td>352.0</td>\n",
       "      <td>151.87</td>\n",
       "      <td>153.0</td>\n",
       "    </tr>\n",
       "    <tr>\n",
       "      <th>6</th>\n",
       "      <td>774</td>\n",
       "      <td>154350</td>\n",
       "      <td>17940.00</td>\n",
       "      <td>948.0</td>\n",
       "      <td>129.0</td>\n",
       "      <td>25725.0</td>\n",
       "      <td>2990.00</td>\n",
       "      <td>158.0</td>\n",
       "    </tr>\n",
       "    <tr>\n",
       "      <th>8</th>\n",
       "      <td>1064</td>\n",
       "      <td>1064</td>\n",
       "      <td>1064.00</td>\n",
       "      <td>1064.0</td>\n",
       "      <td>133.0</td>\n",
       "      <td>133.0</td>\n",
       "      <td>133.00</td>\n",
       "      <td>133.0</td>\n",
       "    </tr>\n",
       "    <tr>\n",
       "      <th>2000</th>\n",
       "      <td>704000</td>\n",
       "      <td>704000</td>\n",
       "      <td>704000.00</td>\n",
       "      <td>704000.0</td>\n",
       "      <td>352.0</td>\n",
       "      <td>352.0</td>\n",
       "      <td>352.00</td>\n",
       "      <td>352.0</td>\n",
       "    </tr>\n",
       "  </tbody>\n",
       "</table>\n",
       "</div>"
      ],
      "text/plain": [
       "            Order Amount ($)                              Cost Per Item ($)  \\\n",
       "                         min     max       mean    median               min   \n",
       "Total Items                                                                   \n",
       "1                         90   25725     417.36     153.0              90.0   \n",
       "2                        180   51450     750.22     306.0              90.0   \n",
       "3                        270   77175    1191.08     459.0              90.0   \n",
       "4                        360  102900     947.69     592.0              90.0   \n",
       "5                        450    1760     759.35     765.0              90.0   \n",
       "6                        774  154350   17940.00     948.0             129.0   \n",
       "8                       1064    1064    1064.00    1064.0             133.0   \n",
       "2000                  704000  704000  704000.00  704000.0             352.0   \n",
       "\n",
       "                                      \n",
       "                 max     mean median  \n",
       "Total Items                           \n",
       "1            25725.0   417.36  153.0  \n",
       "2            25725.0   375.11  153.0  \n",
       "3            25725.0   397.03  153.0  \n",
       "4            25725.0   236.92  148.0  \n",
       "5              352.0   151.87  153.0  \n",
       "6            25725.0  2990.00  158.0  \n",
       "8              133.0   133.00  133.0  \n",
       "2000           352.0   352.00  352.0  "
      ]
     },
     "execution_count": 19,
     "metadata": {},
     "output_type": "execute_result"
    }
   ],
   "source": [
    "metrics = ['min', 'max', 'mean', 'median']\n",
    "\n",
    "# Show min, max, mean, and median of order amounts and cost per item grouped by total items\n",
    "df.groupby('total_items').agg({'order_amount': metrics, 'cost_per_item': metrics}).round(2).\\\n",
    "    rename(columns={'order_amount': 'Order Amount ($)',\n",
    "                    'cost_per_item': 'Cost Per Item ($)'}).rename_axis('Total Items')"
   ]
  },
  {
   "cell_type": "markdown",
   "id": "1eeb6bca",
   "metadata": {},
   "source": [
    "The table above shows that there are some sneakers costing \\\\$25,725 per pair."
   ]
  },
  {
   "cell_type": "code",
   "execution_count": 20,
   "id": "6339ce2a",
   "metadata": {},
   "outputs": [
    {
     "data": {
      "image/png": "[encoded data removed]",
      "text/plain": [
       "<Figure size 864x576 with 1 Axes>"
      ]
     },
     "metadata": {
      "needs_background": "light"
     },
     "output_type": "display_data"
    }
   ],
   "source": [
    "plt.figure(figsize=(12,8))\n",
    "sns.boxplot(data=df, x='cost_per_item')\n",
    "plt.axvline(df['cost_per_item'].mean(), color='magenta', label='Average Item Cost')\n",
    "plt.axvline(df['cost_per_item'].median(), color='gold', label='Median Item Cost')\n",
    "plt.xscale('log')\n",
    "plt.title('Distribution of Item Cost')\n",
    "plt.xlabel('Cost Per Item ($)')\n",
    "plt.legend()\n",
    "plt.show()"
   ]
  },
  {
   "cell_type": "markdown",
   "id": "4b165c1f",
   "metadata": {},
   "source": [
    "The majority of sneakers cost between \\\\$90 - \\$200, but there is a large outlier of \\\\$25,725.\n",
    "\n",
    "Hence, these outliers and right skewed distribution of the sneaker cost as well as for total items affect the mean value calculation by shifting it towards the tail end of the distribution."
   ]
  },
  {
   "cell_type": "markdown",
   "id": "1ab24c2c",
   "metadata": {},
   "source": [
    "### Question 1a Answer\n",
    "\n",
    "As shown above, the issue with reporting the average order value is that the mean value is affected greatly by outliers in this dataset. The mean value would be an appropriate measure if the order values were normally distributed, but this is not the case for this dataset as we instead see a right-skewed distribution."
   ]
  },
  {
   "cell_type": "markdown",
   "id": "1b3d3b82",
   "metadata": {},
   "source": [
    "### Question 1b Answer\n",
    "\n",
    "If the business objective is to gain an insight on the ***amount of each order***, I would recommend reporting the **median order amount**. If the business objective is to gain an insight on the ***cost of each sneaker***, I would recommend calculating the cost per sneaker by dividing each order amount with the total number of items for each order, and then report the **median cost per sneaker**."
   ]
  },
  {
   "cell_type": "markdown",
   "id": "ae37e040",
   "metadata": {},
   "source": [
    "### Question 1c Answer"
   ]
  },
  {
   "cell_type": "code",
   "execution_count": 23,
   "id": "4104b859",
   "metadata": {},
   "outputs": [
    {
     "name": "stdout",
     "output_type": "stream",
     "text": [
      "The median order amount is $284.00.\n",
      "The median price per sneaker is $153.00.\n"
     ]
    }
   ],
   "source": [
    "print(f'The median order amount is ${\"{:.2f}\".format(df[\"order_amount\"].median())}.')\n",
    "print(f'The median price per sneaker is ${\"{:.2f}\".format(df[\"cost_per_item\"].median())}.')"
   ]
  },
  {
   "cell_type": "markdown",
   "id": "41932fd8",
   "metadata": {},
   "source": [
    "## Question 2\n",
    "\n",
    "For each of the SQL questions, the answer to the question is stated in markdown followed by the SQL query that was used, followed by a screenshot of the query results from the w3schools page. Note that the SQL queries have been pasted into the code cells below - the cells themselves will not execute within this notebook."
   ]
  },
  {
   "cell_type": "markdown",
   "id": "77511ae3",
   "metadata": {},
   "source": [
    "### Question 2a."
   ]
  },
  {
   "cell_type": "markdown",
   "id": "e6f51768",
   "metadata": {},
   "source": [
    "A total of 54 orders were shipped by Speedy Express."
   ]
  },
  {
   "cell_type": "code",
   "execution_count": 22,
   "id": "88512354",
   "metadata": {},
   "outputs": [
    {
     "name": "stderr",
     "output_type": "stream",
     "text": [
      "UsageError: Cell magic `%%sql` not found.\n"
     ]
    }
   ],
   "source": [
    "%%sql\n",
    "\n",
    "SELECT\n",
    "    Shippers.ShipperName,\n",
    "    COUNT(Orders.OrderId) AS Number_Of_Orders\n",
    "FROM\n",
    "    Orders\n",
    "INNER JOIN Shippers ON Shippers.ShipperID = Orders.ShipperID\n",
    "WHERE Shippers.ShipperName = 'Speedy Express';"
   ]
  },
  {
   "attachments": {
    "Screen%20Shot%202022-01-09%20at%206.24.28%20PM.jpg": {
     "image/jpeg": "[encoded data removed]"
    }
   },
   "cell_type": "markdown",
   "id": "913fe56c",
   "metadata": {},
   "source": [
    "![Screen%20Shot%202022-01-09%20at%206.24.28%20PM.jpg](attachment:Screen%20Shot%202022-01-09%20at%206.24.28%20PM.jpg)"
   ]
  },
  {
   "cell_type": "markdown",
   "id": "da1baa04",
   "metadata": {},
   "source": [
    "### Question 2b.\n",
    "\n",
    "The last name of the employee with the most orders is Peacock who has 40 orders."
   ]
  },
  {
   "cell_type": "code",
   "execution_count": null,
   "id": "8cc87bec",
   "metadata": {},
   "outputs": [],
   "source": [
    "%%sql\n",
    "\n",
    "SELECT\n",
    "    Orders.EmployeeID,\n",
    "    Employees.LastName,\n",
    "    COUNT(Orders.OrderID) AS Number_Of_Orders\n",
    "FROM\n",
    "    Orders\n",
    "INNER JOIN Employees ON Orders.EmployeeID = Employees.EmployeeID\n",
    "GROUP BY\n",
    "    Orders.EmployeeID,\n",
    "    Employees.LastName\n",
    "ORDER BY Number_Of_Orders DESC LIMIT 1;"
   ]
  },
  {
   "attachments": {
    "Screen%20Shot%202022-01-09%20at%206.29.30%20PM.jpg": {
     "image/jpeg": "[encoded data removed]"
    }
   },
   "cell_type": "markdown",
   "id": "c1258e0c",
   "metadata": {},
   "source": [
    "![Screen%20Shot%202022-01-09%20at%206.29.30%20PM.jpg](attachment:Screen%20Shot%202022-01-09%20at%206.29.30%20PM.jpg)"
   ]
  },
  {
   "cell_type": "markdown",
   "id": "bff0cfce",
   "metadata": {},
   "source": [
    "### Question 2c."
   ]
  },
  {
   "cell_type": "markdown",
   "id": "aff5f766",
   "metadata": {},
   "source": [
    "The product that was ordered the most by customers in Germany was Boston Crab Meat (Product ID: 40), of which 160 units were ordered."
   ]
  },
  {
   "cell_type": "code",
   "execution_count": null,
   "id": "4b60017d",
   "metadata": {},
   "outputs": [],
   "source": [
    "%%sql\n",
    "\n",
    "SELECT \n",
    "    sq.ProductID,\n",
    "    Products.ProductName,\n",
    "    SUM(sq.Quantity) AS Total_Quantity\n",
    "FROM\n",
    "    (SELECT \n",
    "        ProductID, Quantity\n",
    "    FROM\n",
    "        OrderDetails\n",
    "    WHERE\n",
    "        OrderID IN (SELECT \n",
    "                OrderID\n",
    "            FROM\n",
    "                Orders\n",
    "            WHERE\n",
    "                CustomerID IN (SELECT \n",
    "                        CustomerID\n",
    "                    FROM\n",
    "                        Customers\n",
    "                    WHERE\n",
    "                        Country = 'Germany'))) sq\n",
    "INNER JOIN Products ON sq.ProductID = Products.ProductID\n",
    "GROUP BY sq.ProductID\n",
    "ORDER BY Total_Quantity DESC\n",
    "LIMIT 1;"
   ]
  },
  {
   "attachments": {
    "Screen%20Shot%202022-01-09%20at%206.12.56%20PM.jpg": {
     "image/jpeg": "[encoded data removed]"
    }
   },
   "cell_type": "markdown",
   "id": "c5fd48af",
   "metadata": {},
   "source": [
    "![Screen%20Shot%202022-01-09%20at%206.12.56%20PM.jpg](attachment:Screen%20Shot%202022-01-09%20at%206.12.56%20PM.jpg)"
   ]
  }
 ],
 "metadata": {
  "kernelspec": {
   "display_name": "Python 3",
   "language": "python",
   "name": "python3"
  },
  "language_info": {
   "codemirror_mode": {
    "name": "ipython",
    "version": 3
   },
   "file_extension": ".py",
   "mimetype": "text/x-python",
   "name": "python",
   "nbconvert_exporter": "python",
   "pygments_lexer": "ipython3",
   "version": "3.8.8"
  }
 },
 "nbformat": 4,
 "nbformat_minor": 5
}
